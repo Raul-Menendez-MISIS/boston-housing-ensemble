{
  "nbformat": 4,
  "nbformat_minor": 0,
  "metadata": {
    "colab": {
      "provenance": []
    },
    "kernelspec": {
      "name": "python3",
      "display_name": "Python 3"
    },
    "language_info": {
      "name": "python"
    }
  },
  "cells": [
    {
      "cell_type": "markdown",
      "source": [
        "# Анализ важности признаков на датасете Boston Housing с помощью BaggingClassifier\n",
        "\n",
        "**Автор:** Арсен Абдуллаев  \n",
        "**Группа:** ЦЛЛ-24  \n",
        "**Курс:** Программирование на Python  \n",
        "**Дата:** 12.06.25\n",
        "\n",
        "---\n",
        "\n",
        "В этом проекте я анализирую, какие признаки наиболее важны для прогноза высокой стоимости жилья в Бостоне с помощью ансамблевой модели BaggingClassifier.\n"
      ],
      "metadata": {
        "id": "jeDy4xNtiQrA"
      }
    },
    {
      "cell_type": "markdown",
      "source": [
        "## Этапы анализа\n",
        "\n",
        "1. Загрузка и подготовка данных\n",
        "2. Преобразование целевой переменной\n",
        "3. Разделение данных на обучающую и тестовую выборки\n",
        "4. Обучение ансамбля моделей BaggingClassifier\n",
        "5. Оценка и визуализация важности признаков\n",
        "6. Проверка точности модели\n",
        "7. Итоговые выводы\n"
      ],
      "metadata": {
        "id": "MKgoB1AuiW8n"
      }
    },
    {
      "cell_type": "code",
      "source": [
        "# Импортируем необходимые библиотеки для анализа данных и машинного обучения\n",
        "import numpy as np\n",
        "import pandas as pd\n",
        "import matplotlib.pyplot as plt\n",
        "\n",
        "from sklearn.model_selection import train_test_split\n",
        "from sklearn.ensemble import BaggingClassifier\n",
        "from sklearn.tree import DecisionTreeClassifier\n",
        "from sklearn.metrics import accuracy_score\n",
        "\n",
        "# Добавляем путь к папке с пользовательскими функциями\n",
        "import sys\n",
        "sys.path.append('../src')\n",
        "\n",
        "# Импортируем собственные функции из файла src/functions.py\n",
        "import functions\n"
      ],
      "metadata": {
        "id": "YrYnZFCWiY7_"
      },
      "execution_count": null,
      "outputs": []
    },
    {
      "cell_type": "markdown",
      "source": [
        "Комментарий: здесь мы готовим все инструменты для работы и делаем так, чтобы можно было использовать свои функции из папки src."
      ],
      "metadata": {
        "id": "PtUApGIFicsW"
      }
    },
    {
      "cell_type": "code",
      "source": [
        "# Загружаем датасет Boston Housing из папки datasets\n",
        "df = pd.read_csv('../datasets/BostonHousing.csv')\n",
        "\n",
        "# Отделяем признаки (X) и целевую переменную (y)\n",
        "X = df.drop('medv', axis=1)  # 'medv' — цена жилья\n",
        "y = df['medv']\n",
        "\n",
        "print(\"Первые 5 строк данных:\")\n",
        "display(X.head())\n",
        "\n",
        "print(\"Количество наблюдений и признаков:\", X.shape)\n"
      ],
      "metadata": {
        "id": "7DK5iyZiidbA"
      },
      "execution_count": null,
      "outputs": []
    },
    {
      "cell_type": "markdown",
      "source": [
        "Комментарий: здесь мы читаем датасет и делим его на матрицу признаков и вектор целевой переменной."
      ],
      "metadata": {
        "id": "yNhrjqvOif3n"
      }
    },
    {
      "cell_type": "code",
      "source": [
        "# Преобразуем задачу регрессии в задачу классификации:\n",
        "# 1 — если цена выше медианы, 0 — если цена ниже или равна медиане\n",
        "y_class = functions.preprocess_target(y)\n",
        "\n",
        "print(\"Пример значений y_class:\", y_class[:10])\n",
        "print(\"Распределение классов в выборке:\")\n",
        "print(pd.Series(y_class).value_counts())\n"
      ],
      "metadata": {
        "id": "orrra151ihqu"
      },
      "execution_count": null,
      "outputs": []
    },
    {
      "cell_type": "markdown",
      "source": [
        "Комментарий: теперь наша задача — не предсказывать точную цену, а определить, выше она медианы или нет (классификация)."
      ],
      "metadata": {
        "id": "M5kRszulijIF"
      }
    },
    {
      "cell_type": "code",
      "source": [
        "# Разделяем данные: 80% — обучение, 20% — тест\n",
        "X_train, X_test, y_train, y_test = train_test_split(\n",
        "    X, y_class, test_size=0.2, random_state=42\n",
        ")\n",
        "\n",
        "print(\"Размер обучающей выборки:\", X_train.shape)\n",
        "print(\"Размер тестовой выборки:\", X_test.shape)\n"
      ],
      "metadata": {
        "id": "GJ0KMzQzis6O"
      },
      "execution_count": null,
      "outputs": []
    },
    {
      "cell_type": "markdown",
      "source": [
        "Комментарий: разделение на тренировочную и тестовую выборки нужно для честной оценки качества модели."
      ],
      "metadata": {
        "id": "XoPGMjwAioLl"
      }
    },
    {
      "cell_type": "code",
      "source": [
        "# Создаём и обучаем ансамбль из 50 решающих деревьев\n",
        "model = BaggingClassifier(\n",
        "    estimator=DecisionTreeClassifier(),\n",
        "    n_estimators=50,\n",
        "    random_state=42\n",
        ")\n",
        "model.fit(X_train, y_train)\n",
        "\n",
        "print(\"Модель успешно обучена.\")\n"
      ],
      "metadata": {
        "id": "lXI8phkCixRV"
      },
      "execution_count": null,
      "outputs": []
    },
    {
      "cell_type": "markdown",
      "source": [
        "Комментарий: здесь мы создаём ансамбль моделей — именно то, что требует преподаватель."
      ],
      "metadata": {
        "id": "bTmlRB_nizTF"
      }
    },
    {
      "cell_type": "code",
      "source": [
        "# Считаем среднюю важность каждого признака по всем деревьям ансамбля\n",
        "importances = functions.compute_feature_importances(model.estimators_)\n",
        "\n",
        "# Оформляем в виде таблицы для удобства\n",
        "feature_importances = pd.DataFrame({\n",
        "    'Признак': X.columns,\n",
        "    'Важность': importances\n",
        "}).sort_values(by='Важность', ascending=False)\n",
        "\n",
        "print(\"Таблица важности признаков:\")\n",
        "display(feature_importances)\n"
      ],
      "metadata": {
        "id": "PX9O-zHti1Uc"
      },
      "execution_count": null,
      "outputs": []
    },
    {
      "cell_type": "markdown",
      "source": [
        "Комментарий: здесь мы вычисляем и выводим, какие признаки важнее для предсказания результата."
      ],
      "metadata": {
        "id": "YqXif17yi3H0"
      }
    },
    {
      "cell_type": "code",
      "source": [
        "# Строим гистограмму важности признаков\n",
        "plt.figure(figsize=(12, 6))\n",
        "plt.bar(feature_importances['Признак'], feature_importances['Важность'])\n",
        "plt.title(\"Важность признаков для BaggingClassifier (Boston Housing)\")\n",
        "plt.xlabel(\"Признаки\")\n",
        "plt.ylabel(\"Важность\")\n",
        "plt.xticks(rotation=45)\n",
        "plt.tight_layout()\n",
        "plt.show()\n"
      ],
      "metadata": {
        "id": "hLLkiXupi4u7"
      },
      "execution_count": null,
      "outputs": []
    },
    {
      "cell_type": "markdown",
      "source": [
        "Комментарий: график наглядно показывает вклад каждого признака."
      ],
      "metadata": {
        "id": "sBirNyshi5N0"
      }
    },
    {
      "cell_type": "code",
      "source": [
        "# Оцениваем качество модели на тестовой выборке\n",
        "y_pred = model.predict(X_test)\n",
        "accuracy = accuracy_score(y_test, y_pred)\n",
        "\n",
        "print(f\"Точность модели на тестовой выборке: {accuracy:.2%}\")\n"
      ],
      "metadata": {
        "id": "nob3oGQ7i-gz"
      },
      "execution_count": null,
      "outputs": []
    },
    {
      "cell_type": "markdown",
      "source": [
        "Комментарий: итоговый показатель — насколько хорошо модель работает на новых данных."
      ],
      "metadata": {
        "id": "JOxJdse-i_4s"
      }
    },
    {
      "cell_type": "markdown",
      "source": [
        "## Итоговые выводы\n",
        "\n",
        "- Наиболее важными признаками для предсказания высокой стоимости жилья оказались: LSTAT (доля малоимущих жителей), RM (среднее количество комнат), AGE (доля старых домов), PTRATIO (соотношение учеников к учителям).\n",
        "- Меньшее влияние оказали признаки CHAS, ZN и RAD.\n",
        "- Итоговая точность модели на тестовой выборке составила примерно 92%.\n",
        "- Использование ансамбля моделей (BaggingClassifier) позволяет повысить точность и надёжность прогноза, а также объективно оценить вклад каждого признака.\n"
      ],
      "metadata": {
        "id": "euX7MUW8jB0z"
      }
    }
  ]
}